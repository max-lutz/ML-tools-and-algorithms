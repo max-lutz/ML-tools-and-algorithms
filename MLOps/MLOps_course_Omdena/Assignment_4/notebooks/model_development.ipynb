{
 "cells": [
  {
   "cell_type": "code",
   "execution_count": 22,
   "id": "6a7ec84a",
   "metadata": {},
   "outputs": [],
   "source": [
    "# import libraries\n",
    "import numpy as np\n",
    "import pandas as pd\n",
    "from pathlib import Path\n",
    "\n",
    "import seaborn as sns\n",
    "import matplotlib.pyplot as plt\n",
    "%matplotlib inline\n",
    "plt.rcParams['font.size'] = '15'\n",
    "\n",
    "from sklearn.linear_model import LinearRegression, SGDRegressor\n",
    "from sklearn.ensemble import RandomForestRegressor, GradientBoostingRegressor\n",
    "from sklearn.svm import SVR\n",
    "from lightgbm import LGBMRegressor\n",
    "from xgboost.sklearn import XGBRegressor\n",
    "from catboost import CatBoostRegressor\n",
    "from sklearn.kernel_ridge import KernelRidge\n",
    "from sklearn.linear_model import ElasticNet, Lasso,  BayesianRidge, Ridge\n",
    "\n",
    "from sklearn.preprocessing import RobustScaler, MinMaxScaler, StandardScaler, Normalizer, FunctionTransformer\n",
    "from sklearn.preprocessing import OneHotEncoder\n",
    "from sklearn.pipeline import Pipeline, make_pipeline\n",
    "from sklearn.compose import ColumnTransformer, make_column_selector\n",
    "from sklearn.preprocessing import FunctionTransformer\n",
    "from scipy.stats import skew\n",
    "\n",
    "from sklearn.model_selection import cross_val_score, cross_validate\n",
    "from sklearn.model_selection import GridSearchCV\n",
    "from sklearn.model_selection import KFold\n",
    "from sklearn.model_selection import StratifiedKFold"
   ]
  },
  {
   "cell_type": "code",
   "execution_count": 2,
   "id": "02c76e1a",
   "metadata": {},
   "outputs": [],
   "source": [
    "# read the dataframe\n",
    "data_path = Path.cwd().parent / 'data' / 'paris_solcast_cleaned.csv'\n",
    "df = pd.read_csv(data_path, index_col=0)\n",
    "df = df.drop(columns=['date'])    "
   ]
  },
  {
   "cell_type": "code",
   "execution_count": 3,
   "id": "0e2f1e93",
   "metadata": {},
   "outputs": [
    {
     "name": "stdout",
     "output_type": "stream",
     "text": [
      "<class 'pandas.core.frame.DataFrame'>\n",
      "Int64Index: 1087 entries, 0 to 1086\n",
      "Data columns (total 13 columns):\n",
      " #   Column         Non-Null Count  Dtype  \n",
      "---  ------         --------------  -----  \n",
      " 0   Temperature    1087 non-null   float64\n",
      " 1   CloudOpacity   1087 non-null   float64\n",
      " 2   DHI            1087 non-null   float64\n",
      " 3   DNI            1087 non-null   float64\n",
      " 4   Radiation      1087 non-null   float64\n",
      " 5   Precipitation  1087 non-null   float64\n",
      " 6   Humidity       1087 non-null   float64\n",
      " 7   Pressure       1087 non-null   float64\n",
      " 8   WindDirection  1087 non-null   float64\n",
      " 9   WindSpeed      1087 non-null   float64\n",
      " 10  Sunrise        1087 non-null   int64  \n",
      " 11  Sunset         1087 non-null   int64  \n",
      " 12  Month          1087 non-null   int64  \n",
      "dtypes: float64(10), int64(3)\n",
      "memory usage: 118.9 KB\n"
     ]
    }
   ],
   "source": [
    "df.info()"
   ]
  },
  {
   "cell_type": "markdown",
   "id": "d94262a6",
   "metadata": {},
   "source": [
    "## Split the data"
   ]
  },
  {
   "cell_type": "code",
   "execution_count": 4,
   "id": "729cbdba",
   "metadata": {},
   "outputs": [
    {
     "name": "stdout",
     "output_type": "stream",
     "text": [
      "Size of train: 74.98 % of original dataframe\n",
      "Size of test: 25.02 % of original dataframe\n"
     ]
    }
   ],
   "source": [
    "from sklearn.model_selection import train_test_split \n",
    "# stratify also along the month column\n",
    "# check that the rain ratio per month is equal between train and test set\n",
    "df_train, df_test = train_test_split(df, test_size=0.25, stratify=df[['Month']]) \n",
    "\n",
    "print(\"Size of train:\", round(len(df_train)/len(df)*100, 2), \"% of original dataframe\")\n",
    "print(\"Size of test:\", round(len(df_test)/len(df)*100, 2), \"% of original dataframe\")\n"
   ]
  },
  {
   "cell_type": "code",
   "execution_count": 5,
   "id": "80e80673",
   "metadata": {},
   "outputs": [],
   "source": [
    "def get_features_and_label(df):\n",
    "    label = np.ravel(np.array(df['Radiation']).T)\n",
    "    features = df.drop(columns=['Radiation']).to_numpy()\n",
    "    return features, label"
   ]
  },
  {
   "cell_type": "code",
   "execution_count": 6,
   "id": "fc97ab82",
   "metadata": {},
   "outputs": [],
   "source": [
    "#Split the data into X and y\n",
    "X_train, y_train = get_features_and_label(df_train)\n",
    "X_test, y_test = get_features_and_label(df_test)"
   ]
  },
  {
   "cell_type": "code",
   "execution_count": 7,
   "id": "f5e6aacd",
   "metadata": {},
   "outputs": [
    {
     "data": {
      "text/plain": [
       "((815, 12), (815,))"
      ]
     },
     "execution_count": 7,
     "metadata": {},
     "output_type": "execute_result"
    }
   ],
   "source": [
    "X_train.shape, y_train.shape"
   ]
  },
  {
   "cell_type": "markdown",
   "id": "bdc4bf68",
   "metadata": {},
   "source": [
    "## Modeling"
   ]
  },
  {
   "cell_type": "code",
   "execution_count": 8,
   "id": "0f106c3e",
   "metadata": {},
   "outputs": [
    {
     "data": {
      "text/plain": [
       "['DHI', 'Precipitation', 'Humidity', 'Pressure', 'WindDirection', 'WindSpeed']"
      ]
     },
     "execution_count": 8,
     "metadata": {},
     "output_type": "execute_result"
    }
   ],
   "source": [
    "skewed_features = []\n",
    "for col in df_train.columns.to_list()[:-2]:    \n",
    "    if col != 'Radiation':\n",
    "        if((min(df_train[col]) > 0)) & (abs(skew(df_train[col])) > 0):\n",
    "            skewed_features.append(col)\n",
    "        \n",
    "skewed_features"
   ]
  },
  {
   "cell_type": "code",
   "execution_count": 9,
   "id": "7a47e5fe",
   "metadata": {},
   "outputs": [],
   "source": [
    "def log_transform(x):\n",
    "    return np.log(x + 1)"
   ]
  },
  {
   "cell_type": "code",
   "execution_count": 10,
   "id": "40a2b8db",
   "metadata": {},
   "outputs": [],
   "source": [
    "preprocessor = ColumnTransformer(\n",
    "    transformers=[\n",
    "        (\"month_encoder\", OneHotEncoder(handle_unknown=\"ignore\"), ['Month']),\n",
    "        (\"log_transform\", FunctionTransformer(log_transform), skewed_features)\n",
    "    ],\n",
    "    remainder='passthrough'\n",
    ")"
   ]
  },
  {
   "cell_type": "code",
   "execution_count": 11,
   "id": "88a715fe",
   "metadata": {},
   "outputs": [],
   "source": [
    "pipeline = Pipeline([  \n",
    "    ('preprocessing', preprocessor),\n",
    "    ('scaler' , StandardScaler()),\n",
    "    ('model' , RandomForestRegressor())\n",
    "])"
   ]
  },
  {
   "cell_type": "code",
   "execution_count": 12,
   "id": "7c5a38f5",
   "metadata": {},
   "outputs": [],
   "source": [
    "parameters = {\n",
    "    'preprocessing__month_encoder': ['passthrough', OneHotEncoder(handle_unknown='ignore')],\n",
    "    'preprocessing__log_transform': ['passthrough', FunctionTransformer(log_transform)],\n",
    "    'scaler': ['passthrough', StandardScaler(), MinMaxScaler(), Normalizer(), RobustScaler()],\n",
    "    'model': [LinearRegression(), RandomForestRegressor(), Ridge()]\n",
    "}"
   ]
  },
  {
   "cell_type": "code",
   "execution_count": 13,
   "id": "a3dbde54",
   "metadata": {},
   "outputs": [],
   "source": [
    "X_train = df_train.drop(columns=['Radiation'])\n",
    "y_train = df_train['Radiation']\n",
    "\n",
    "X_test = df_test.drop(columns=['Radiation'])\n",
    "y_test = df_test['Radiation']"
   ]
  },
  {
   "cell_type": "code",
   "execution_count": 14,
   "id": "3bac5108",
   "metadata": {},
   "outputs": [
    {
     "data": {
      "text/html": [
       "<div>\n",
       "<style scoped>\n",
       "    .dataframe tbody tr th:only-of-type {\n",
       "        vertical-align: middle;\n",
       "    }\n",
       "\n",
       "    .dataframe tbody tr th {\n",
       "        vertical-align: top;\n",
       "    }\n",
       "\n",
       "    .dataframe thead th {\n",
       "        text-align: right;\n",
       "    }\n",
       "</style>\n",
       "<table border=\"1\" class=\"dataframe\">\n",
       "  <thead>\n",
       "    <tr style=\"text-align: right;\">\n",
       "      <th></th>\n",
       "      <th>Temperature</th>\n",
       "      <th>CloudOpacity</th>\n",
       "      <th>DHI</th>\n",
       "      <th>DNI</th>\n",
       "      <th>Precipitation</th>\n",
       "      <th>Humidity</th>\n",
       "      <th>Pressure</th>\n",
       "      <th>WindDirection</th>\n",
       "      <th>WindSpeed</th>\n",
       "      <th>Sunrise</th>\n",
       "      <th>Sunset</th>\n",
       "      <th>Month</th>\n",
       "    </tr>\n",
       "  </thead>\n",
       "  <tbody>\n",
       "    <tr>\n",
       "      <th>302</th>\n",
       "      <td>9.736364</td>\n",
       "      <td>47.600000</td>\n",
       "      <td>123.818182</td>\n",
       "      <td>22.909091</td>\n",
       "      <td>19.909091</td>\n",
       "      <td>63.163636</td>\n",
       "      <td>1011.090909</td>\n",
       "      <td>73.727273</td>\n",
       "      <td>4.109091</td>\n",
       "      <td>9</td>\n",
       "      <td>18</td>\n",
       "      <td>10</td>\n",
       "    </tr>\n",
       "    <tr>\n",
       "      <th>909</th>\n",
       "      <td>18.462500</td>\n",
       "      <td>58.675000</td>\n",
       "      <td>184.062500</td>\n",
       "      <td>42.000000</td>\n",
       "      <td>32.156250</td>\n",
       "      <td>85.168750</td>\n",
       "      <td>1002.768750</td>\n",
       "      <td>149.625000</td>\n",
       "      <td>1.443750</td>\n",
       "      <td>9</td>\n",
       "      <td>22</td>\n",
       "      <td>6</td>\n",
       "    </tr>\n",
       "    <tr>\n",
       "      <th>28</th>\n",
       "      <td>3.750000</td>\n",
       "      <td>25.630000</td>\n",
       "      <td>80.100000</td>\n",
       "      <td>222.700000</td>\n",
       "      <td>7.470000</td>\n",
       "      <td>70.840000</td>\n",
       "      <td>990.600000</td>\n",
       "      <td>309.400000</td>\n",
       "      <td>6.190000</td>\n",
       "      <td>9</td>\n",
       "      <td>18</td>\n",
       "      <td>1</td>\n",
       "    </tr>\n",
       "    <tr>\n",
       "      <th>859</th>\n",
       "      <td>16.073333</td>\n",
       "      <td>40.933333</td>\n",
       "      <td>219.266667</td>\n",
       "      <td>164.266667</td>\n",
       "      <td>20.286667</td>\n",
       "      <td>63.660000</td>\n",
       "      <td>1001.426667</td>\n",
       "      <td>198.133333</td>\n",
       "      <td>4.853333</td>\n",
       "      <td>9</td>\n",
       "      <td>21</td>\n",
       "      <td>5</td>\n",
       "    </tr>\n",
       "    <tr>\n",
       "      <th>720</th>\n",
       "      <td>9.425000</td>\n",
       "      <td>24.075000</td>\n",
       "      <td>76.625000</td>\n",
       "      <td>212.375000</td>\n",
       "      <td>12.400000</td>\n",
       "      <td>78.025000</td>\n",
       "      <td>1008.387500</td>\n",
       "      <td>213.625000</td>\n",
       "      <td>3.600000</td>\n",
       "      <td>0</td>\n",
       "      <td>17</td>\n",
       "      <td>12</td>\n",
       "    </tr>\n",
       "    <tr>\n",
       "      <th>...</th>\n",
       "      <td>...</td>\n",
       "      <td>...</td>\n",
       "      <td>...</td>\n",
       "      <td>...</td>\n",
       "      <td>...</td>\n",
       "      <td>...</td>\n",
       "      <td>...</td>\n",
       "      <td>...</td>\n",
       "      <td>...</td>\n",
       "      <td>...</td>\n",
       "      <td>...</td>\n",
       "      <td>...</td>\n",
       "    </tr>\n",
       "    <tr>\n",
       "      <th>652</th>\n",
       "      <td>11.418182</td>\n",
       "      <td>49.636364</td>\n",
       "      <td>138.181818</td>\n",
       "      <td>39.454545</td>\n",
       "      <td>17.836364</td>\n",
       "      <td>73.754545</td>\n",
       "      <td>998.309091</td>\n",
       "      <td>256.909091</td>\n",
       "      <td>3.563636</td>\n",
       "      <td>9</td>\n",
       "      <td>19</td>\n",
       "      <td>10</td>\n",
       "    </tr>\n",
       "    <tr>\n",
       "      <th>618</th>\n",
       "      <td>23.342857</td>\n",
       "      <td>12.921429</td>\n",
       "      <td>101.571429</td>\n",
       "      <td>478.428571</td>\n",
       "      <td>31.921429</td>\n",
       "      <td>54.792857</td>\n",
       "      <td>1012.907143</td>\n",
       "      <td>301.642857</td>\n",
       "      <td>2.435714</td>\n",
       "      <td>9</td>\n",
       "      <td>21</td>\n",
       "      <td>9</td>\n",
       "    </tr>\n",
       "    <tr>\n",
       "      <th>612</th>\n",
       "      <td>22.171429</td>\n",
       "      <td>25.278571</td>\n",
       "      <td>187.285714</td>\n",
       "      <td>225.000000</td>\n",
       "      <td>31.814286</td>\n",
       "      <td>42.964286</td>\n",
       "      <td>1010.750000</td>\n",
       "      <td>231.857143</td>\n",
       "      <td>3.128571</td>\n",
       "      <td>9</td>\n",
       "      <td>21</td>\n",
       "      <td>9</td>\n",
       "    </tr>\n",
       "    <tr>\n",
       "      <th>862</th>\n",
       "      <td>13.418750</td>\n",
       "      <td>47.181250</td>\n",
       "      <td>193.187500</td>\n",
       "      <td>52.375000</td>\n",
       "      <td>16.850000</td>\n",
       "      <td>65.712500</td>\n",
       "      <td>999.781250</td>\n",
       "      <td>231.937500</td>\n",
       "      <td>3.387500</td>\n",
       "      <td>9</td>\n",
       "      <td>22</td>\n",
       "      <td>5</td>\n",
       "    </tr>\n",
       "    <tr>\n",
       "      <th>316</th>\n",
       "      <td>7.450000</td>\n",
       "      <td>30.290000</td>\n",
       "      <td>99.600000</td>\n",
       "      <td>80.800000</td>\n",
       "      <td>11.070000</td>\n",
       "      <td>69.250000</td>\n",
       "      <td>994.160000</td>\n",
       "      <td>256.600000</td>\n",
       "      <td>4.640000</td>\n",
       "      <td>9</td>\n",
       "      <td>18</td>\n",
       "      <td>11</td>\n",
       "    </tr>\n",
       "  </tbody>\n",
       "</table>\n",
       "<p>815 rows × 12 columns</p>\n",
       "</div>"
      ],
      "text/plain": [
       "     Temperature  CloudOpacity         DHI         DNI  Precipitation  \\\n",
       "302     9.736364     47.600000  123.818182   22.909091      19.909091   \n",
       "909    18.462500     58.675000  184.062500   42.000000      32.156250   \n",
       "28      3.750000     25.630000   80.100000  222.700000       7.470000   \n",
       "859    16.073333     40.933333  219.266667  164.266667      20.286667   \n",
       "720     9.425000     24.075000   76.625000  212.375000      12.400000   \n",
       "..           ...           ...         ...         ...            ...   \n",
       "652    11.418182     49.636364  138.181818   39.454545      17.836364   \n",
       "618    23.342857     12.921429  101.571429  478.428571      31.921429   \n",
       "612    22.171429     25.278571  187.285714  225.000000      31.814286   \n",
       "862    13.418750     47.181250  193.187500   52.375000      16.850000   \n",
       "316     7.450000     30.290000   99.600000   80.800000      11.070000   \n",
       "\n",
       "      Humidity     Pressure  WindDirection  WindSpeed  Sunrise  Sunset  Month  \n",
       "302  63.163636  1011.090909      73.727273   4.109091        9      18     10  \n",
       "909  85.168750  1002.768750     149.625000   1.443750        9      22      6  \n",
       "28   70.840000   990.600000     309.400000   6.190000        9      18      1  \n",
       "859  63.660000  1001.426667     198.133333   4.853333        9      21      5  \n",
       "720  78.025000  1008.387500     213.625000   3.600000        0      17     12  \n",
       "..         ...          ...            ...        ...      ...     ...    ...  \n",
       "652  73.754545   998.309091     256.909091   3.563636        9      19     10  \n",
       "618  54.792857  1012.907143     301.642857   2.435714        9      21      9  \n",
       "612  42.964286  1010.750000     231.857143   3.128571        9      21      9  \n",
       "862  65.712500   999.781250     231.937500   3.387500        9      22      5  \n",
       "316  69.250000   994.160000     256.600000   4.640000        9      18     11  \n",
       "\n",
       "[815 rows x 12 columns]"
      ]
     },
     "execution_count": 14,
     "metadata": {},
     "output_type": "execute_result"
    }
   ],
   "source": [
    "X_train"
   ]
  },
  {
   "cell_type": "code",
   "execution_count": 15,
   "id": "4f2971f3",
   "metadata": {},
   "outputs": [
    {
     "name": "stdout",
     "output_type": "stream",
     "text": [
      "Training set score: 0.9972211189581687\n",
      "Test set score: 0.9851791894931958\n",
      "Pipeline(steps=[('preprocessing',\n",
      "                 ColumnTransformer(remainder='passthrough',\n",
      "                                   transformers=[('month_encoder',\n",
      "                                                  OneHotEncoder(handle_unknown='ignore'),\n",
      "                                                  ['Month']),\n",
      "                                                 ('log_transform',\n",
      "                                                  'passthrough',\n",
      "                                                  ['DHI', 'Precipitation',\n",
      "                                                   'Humidity', 'Pressure',\n",
      "                                                   'WindDirection',\n",
      "                                                   'WindSpeed'])])),\n",
      "                ('scaler', MinMaxScaler()),\n",
      "                ('model', RandomForestRegressor())])\n"
     ]
    }
   ],
   "source": [
    "scoring = {'max_error': 'max_error', 'neg_mean_squared_error': 'neg_mean_squared_error', 'r2':'r2'}\n",
    "\n",
    "grid = GridSearchCV(pipeline, parameters, cv=5, scoring=scoring, refit='r2', return_train_score=True).fit(X_train, y_train)\n",
    "\n",
    "print('Training set score: ' + str(grid.score(X_train, y_train)))\n",
    "print('Test set score: ' + str(grid.score(X_test, y_test)))\n",
    " \n",
    "# Access the best set of parameters\n",
    "best_params = grid.best_params_\n",
    "#print(best_params)\n",
    "# Stores the optimum model in best_pipe\n",
    "best_pipe = grid.best_estimator_\n",
    "print(best_pipe)"
   ]
  },
  {
   "cell_type": "markdown",
   "id": "ae8f10c4",
   "metadata": {},
   "source": [
    "## Plotting the predictions"
   ]
  },
  {
   "cell_type": "code",
   "execution_count": 20,
   "id": "c3f7cca6",
   "metadata": {},
   "outputs": [],
   "source": [
    "y_pred = best_pipe.predict(X_test)"
   ]
  },
  {
   "cell_type": "code",
   "execution_count": 31,
   "id": "f5acd877",
   "metadata": {},
   "outputs": [
    {
     "data": {
      "image/png": "[encoded data removed]",
      "text/plain": [
       "<Figure size 1584x576 with 1 Axes>"
      ]
     },
     "metadata": {
      "needs_background": "light"
     },
     "output_type": "display_data"
    }
   ],
   "source": [
    "# run the model against the test data presented through a plot\n",
    "fig, ax = plt.subplots(figsize=(22,8))\n",
    "\n",
    "ax.scatter(y_test, y_pred, edgecolors=(0, 0, 0))\n",
    "ax.plot([y_test.min(), y_test.max()], [y_test.min(), y_test.max()], 'm--', lw=3)\n",
    "ax.set_xlabel('Actual solar irradiation')\n",
    "ax.set_ylabel('Predicted solar irradiation')\n",
    "ax.set_title(\" Best pipeline [Random Forest]: Actual vs Predicted Solar Irradiation\");"
   ]
  },
  {
   "cell_type": "code",
   "execution_count": 38,
   "id": "8a16e729",
   "metadata": {},
   "outputs": [
    {
     "name": "stderr",
     "output_type": "stream",
     "text": [
      "C:\\Users\\maxlu\\Anaconda3\\envs\\myenv\\lib\\site-packages\\seaborn\\_decorators.py:36: FutureWarning: Pass the following variables as keyword args: x, y. From version 0.12, the only valid positional argument will be `data`, and passing other arguments without an explicit keyword will result in an error or misinterpretation.\n",
      "  warnings.warn(\n"
     ]
    },
    {
     "data": {
      "image/png": "[encoded data removed]",
      "text/plain": [
       "<Figure size 432x432 with 3 Axes>"
      ]
     },
     "metadata": {
      "needs_background": "light"
     },
     "output_type": "display_data"
    }
   ],
   "source": [
    "sns.jointplot(y_test, y_pred, kind='reg', ax=ax)\n",
    "plt.show()"
   ]
  },
  {
   "cell_type": "code",
   "execution_count": null,
   "id": "4eddca40",
   "metadata": {},
   "outputs": [],
   "source": []
  },
  {
   "cell_type": "code",
   "execution_count": null,
   "id": "e43649d1",
   "metadata": {},
   "outputs": [],
   "source": []
  }
 ],
 "metadata": {
  "kernelspec": {
   "display_name": "Python 3",
   "language": "python",
   "name": "python3"
  },
  "language_info": {
   "codemirror_mode": {
    "name": "ipython",
    "version": 3
   },
   "file_extension": ".py",
   "mimetype": "text/x-python",
   "name": "python",
   "nbconvert_exporter": "python",
   "pygments_lexer": "ipython3",
   "version": "3.8.10"
  }
 },
 "nbformat": 4,
 "nbformat_minor": 5
}
