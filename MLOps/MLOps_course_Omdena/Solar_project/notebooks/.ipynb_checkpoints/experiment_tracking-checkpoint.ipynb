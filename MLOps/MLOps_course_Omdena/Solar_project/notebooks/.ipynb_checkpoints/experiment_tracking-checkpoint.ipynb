{
 "cells": [
  {
   "cell_type": "markdown",
   "id": "0f3ac5b4",
   "metadata": {},
   "source": [
    "## Experiment tracking using Neptune and MLflow"
   ]
  },
  {
   "cell_type": "code",
   "execution_count": null,
   "id": "f23ff26c",
   "metadata": {},
   "outputs": [],
   "source": [
    "#import base libraries\n",
    "import numpy as np\n",
    "import pandas as pd\n",
    "import seaborn as sns\n",
    "import matplotlib.pyplot as plt\n",
    "\n",
    "from preprocessing_functions import log_transform"
   ]
  },
  {
   "cell_type": "code",
   "execution_count": null,
   "id": "c78bd8a7",
   "metadata": {},
   "outputs": [],
   "source": [
    "# importing model metrics\n",
    "from sklearn.metrics import r2_score\n",
    "from sklearn.metrics import mean_absolute_error\n",
    "from sklearn.metrics import mean_squared_error"
   ]
  },
  {
   "cell_type": "code",
   "execution_count": null,
   "id": "7e0a69f4",
   "metadata": {},
   "outputs": [],
   "source": [
    "# import serializer\n",
    "import joblib"
   ]
  },
  {
   "cell_type": "code",
   "execution_count": null,
   "id": "92ceb0d5",
   "metadata": {},
   "outputs": [],
   "source": [
    "# import neptune libraries and sklearn integration\n",
    "import neptune.new as neptune\n",
    "import neptune.new.integrations.sklearn as npt_skl"
   ]
  },
  {
   "cell_type": "code",
   "execution_count": null,
   "id": "a2fa70d4",
   "metadata": {},
   "outputs": [],
   "source": [
    "# import mlflow and libraries\n",
    "import mlflow\n",
    "import mlflow.sklearn"
   ]
  },
  {
   "cell_type": "markdown",
   "id": "7073d66e",
   "metadata": {},
   "source": [
    "### Load models and variables"
   ]
  },
  {
   "cell_type": "code",
   "execution_count": null,
   "id": "88ff9a5f",
   "metadata": {},
   "outputs": [],
   "source": [
    "# load models\n",
    "pipeline_lr = joblib.load(\"../models/lr_model.joblib\")\n",
    "pipeline_rf = joblib.load(\"../models/rf_model.joblib\")"
   ]
  },
  {
   "cell_type": "code",
   "execution_count": null,
   "id": "1a14f975",
   "metadata": {},
   "outputs": [],
   "source": [
    "# load splitted data\n",
    "df_train = pd.read_csv('../data/train.csv', index_col=0)\n",
    "df_test = pd.read_csv('../data/test.csv', index_col=0)"
   ]
  },
  {
   "cell_type": "code",
   "execution_count": null,
   "id": "31ca0925",
   "metadata": {},
   "outputs": [],
   "source": [
    "#Split the data into X and y\n",
    "X_train = df_train.drop(columns=['Radiation'])\n",
    "y_train = df_train['Radiation']\n",
    "\n",
    "X_test = df_test.drop(columns=['Radiation'])\n",
    "y_test = df_test['Radiation']"
   ]
  },
  {
   "cell_type": "code",
   "execution_count": null,
   "id": "adb086d7",
   "metadata": {},
   "outputs": [],
   "source": [
    "print(X_train.shape, y_train.shape)\n",
    "print(X_test.shape, y_test.shape)"
   ]
  },
  {
   "cell_type": "markdown",
   "id": "b05ac6bb",
   "metadata": {},
   "source": [
    "### Experiment tracking with Neptune"
   ]
  },
  {
   "cell_type": "code",
   "execution_count": null,
   "id": "50cce472",
   "metadata": {},
   "outputs": [],
   "source": [
    "run = neptune.init(\n",
    "    project=\"max-lutz/MLOps-course\",\n",
    "    api_token=\"eyJhcGlfYWRkcmVzcyI6Imh0dHBzOi8vYXBwLm5lcHR1bmUuYWkiLCJhcGlfdXJsIjoiaHR0cHM6Ly9hcHAubmVwdHVuZS5haSIsImFwaV9rZXkiOiI4MGE3NGExZS1kMWQ2LTQ5MTMtODBkMy05ZjI5MmUwZWY0MWEifQ==\",\n",
    "    name='solar-irradiation'\n",
    ")  # your credentials"
   ]
  },
  {
   "cell_type": "markdown",
   "id": "49c9b022",
   "metadata": {},
   "source": [
    "#### Track files, models and folders"
   ]
  },
  {
   "cell_type": "code",
   "execution_count": null,
   "id": "5570b7f7",
   "metadata": {},
   "outputs": [],
   "source": [
    "# tracking files\n",
    "#run[\"cleaned_datasets\"].track_files(\"../data/cleaned/\")\n",
    "#run[\"raw_datasets\"].track_files(\"../data/raw/\")\n",
    "\n",
    "# tracking folders\n",
    "run[\"notebooks\"].track_files(\"../notebooks/\")"
   ]
  },
  {
   "cell_type": "markdown",
   "id": "c4e1ea44",
   "metadata": {},
   "source": [
    "#### train and test models while tracking the experiment"
   ]
  },
  {
   "cell_type": "code",
   "execution_count": null,
   "id": "3a3ce159",
   "metadata": {},
   "outputs": [],
   "source": [
    "run['lr_summary'] = npt_skl.create_regressor_summary(pipeline_lr, X_train, X_test, y_train, y_test);\n",
    "run['rf_summary'] = npt_skl.create_regressor_summary(pipeline_rf, X_train, X_test, y_train, y_test);"
   ]
  },
  {
   "cell_type": "markdown",
   "id": "72f71e32",
   "metadata": {},
   "source": [
    "#### stop experiment"
   ]
  },
  {
   "cell_type": "code",
   "execution_count": null,
   "id": "3336965b",
   "metadata": {},
   "outputs": [],
   "source": [
    "run.stop()"
   ]
  },
  {
   "cell_type": "markdown",
   "id": "d318c5c9",
   "metadata": {},
   "source": [
    "### Experiment tracking with MLflow"
   ]
  },
  {
   "cell_type": "markdown",
   "id": "795f14ef",
   "metadata": {},
   "source": [
    "#### Evaluation of Linear Regressor and Random Forest"
   ]
  },
  {
   "cell_type": "code",
   "execution_count": null,
   "id": "6fa0b02d",
   "metadata": {},
   "outputs": [],
   "source": [
    "# model metrics for linear regression\n",
    "y_test_lr_pred = pipeline_lr.predict(X_test)\n",
    "mse_test_lr = mean_squared_error(y_test, y_test_lr_pred, squared=True)\n",
    "mae_test_lr = mean_absolute_error(y_test, y_test_lr_pred)\n",
    "r2_test_lr = r2_score(y_test, y_test_lr_pred)"
   ]
  },
  {
   "cell_type": "code",
   "execution_count": null,
   "id": "3bae8cc2",
   "metadata": {},
   "outputs": [],
   "source": [
    "# model metrics for Random Forest Regressor\n",
    "y_test_rf_pred = pipeline_rf.predict(X_test)\n",
    "mse_test_rf = mean_squared_error(y_test, y_test_rf_pred, squared=True)\n",
    "mae_test_rf = mean_absolute_error(y_test, y_test_rf_pred)\n",
    "r2_test_rf = r2_score(y_test, y_test_rf_pred)"
   ]
  },
  {
   "cell_type": "markdown",
   "id": "7f687d78",
   "metadata": {},
   "source": [
    "#### manually log experiment"
   ]
  },
  {
   "cell_type": "markdown",
   "id": "d87f50ac",
   "metadata": {},
   "source": [
    "<span style=\"color:red\"> **Att:** before running commands below, run on the bash (in the same folder of this file , i.e. notebooks/)the following command:   \n",
    "    $ mlflow server --backend-store-uri sqlite:///mlflow.db  --default-artifact-root ./artifacts --host 0.0.0.0\n",
    "</span>"
   ]
  },
  {
   "cell_type": "code",
   "execution_count": null,
   "id": "04c216c3",
   "metadata": {
    "scrolled": false
   },
   "outputs": [],
   "source": [
    "mlflow.set_tracking_uri(\"http://127.0.0.1:5000/\")\n",
    "experiment = mlflow.get_experiment('0')"
   ]
  },
  {
   "cell_type": "code",
   "execution_count": null,
   "id": "08da670b",
   "metadata": {},
   "outputs": [],
   "source": [
    "print(\"Name of experiment: {}\".format(experiment.name))\n",
    "print(\"Location of Artifact: {}\".format(experiment.artifact_location))\n",
    "print(\"Life cycle phase: {}\".format(experiment.lifecycle_stage))\n",
    "print(\"Experiment_ID: {}\".format(experiment.experiment_id))"
   ]
  },
  {
   "cell_type": "code",
   "execution_count": null,
   "id": "0ec0bb33",
   "metadata": {},
   "outputs": [],
   "source": [
    "# start experiment tracking\n",
    "run = mlflow.start_run(run_name=\"solar_irradiation\")\n",
    "run_id = run.info.run_id"
   ]
  },
  {
   "cell_type": "code",
   "execution_count": null,
   "id": "71f92aed",
   "metadata": {},
   "outputs": [],
   "source": [
    "run_id"
   ]
  },
  {
   "cell_type": "code",
   "execution_count": null,
   "id": "02b92243",
   "metadata": {},
   "outputs": [],
   "source": [
    "# log mlflow attributes for mlflow UI\n",
    "\n",
    "# log metrics for linear regression\n",
    "mlflow.log_metric('mse_lr', mse_test_lr)\n",
    "mlflow.log_metric('mae_lr', mae_test_lr)\n",
    "mlflow.log_metric('r2_lr', r2_test_lr)\n",
    "\n",
    "# log metrics for Random Forest regressor\n",
    "mlflow.log_metric('mse_rf', mse_test_rf)\n",
    "mlflow.log_metric('mae_rf', mae_test_rf)\n",
    "mlflow.log_metric('r2_rf', r2_test_rf)"
   ]
  },
  {
   "cell_type": "code",
   "execution_count": null,
   "id": "1c8aabec",
   "metadata": {},
   "outputs": [],
   "source": [
    "mlflow.sklearn.get_default_conda_env()"
   ]
  },
  {
   "cell_type": "code",
   "execution_count": null,
   "id": "3d2b15a5",
   "metadata": {},
   "outputs": [],
   "source": [
    "type(pipeline_lr)"
   ]
  },
  {
   "cell_type": "code",
   "execution_count": null,
   "id": "3b6546d1",
   "metadata": {
    "scrolled": true
   },
   "outputs": [],
   "source": [
    "# log models experiments\n",
    "path = 'default'\n",
    "mlflow.sklearn.log_model(pipeline_lr, path, registered_model_name='linear-reg-model')\n",
    "mlflow.sklearn.log_model(pipeline_rf, path, registered_model_name='random-forest-reg-model')\n"
   ]
  },
  {
   "cell_type": "code",
   "execution_count": null,
   "id": "adb2238d",
   "metadata": {},
   "outputs": [],
   "source": [
    "# log artifacts (output files)\n",
    "\n",
    "# plots\n",
    "mlflow.log_artifact(\"ml_flow_plots/lr_pred_and_fit.jpg\", artifact_path=\"plots\")\n",
    "mlflow.log_artifact(\"ml_flow_plots/rf_pred_and_fit.jpg\", artifact_path=\"plots\")\n",
    "mlflow.log_artifact(\"ml_flow_plots/lr_jointplot.jpg\", artifact_path=\"plots\")\n",
    "mlflow.log_artifact(\"ml_flow_plots/rf_jointplot.jpg\", artifact_path=\"plots\")"
   ]
  },
  {
   "cell_type": "code",
   "execution_count": null,
   "id": "7255d25e",
   "metadata": {},
   "outputs": [],
   "source": [
    "# end experiment\n",
    "mlflow.end_run()"
   ]
  },
  {
   "cell_type": "markdown",
   "id": "e22a37c8",
   "metadata": {},
   "source": [
    "#### Auto log experiment"
   ]
  },
  {
   "cell_type": "code",
   "execution_count": null,
   "id": "284639cd",
   "metadata": {},
   "outputs": [],
   "source": [
    "# enable auto logging --> log_models=True means that \"trained models are logged as MLflow model artifacts\"\n",
    "mlflow.sklearn.autolog(log_models=True)"
   ]
  },
  {
   "cell_type": "code",
   "execution_count": null,
   "id": "d5886dc8",
   "metadata": {},
   "outputs": [],
   "source": [
    "with mlflow.start_run(experiment_id=experiment.experiment_id, run_name=\"auto_log_models\") as run:\n",
    "    pipeline_lr.fit(X_train, y_train)\n",
    "    y_test_lr_autologPred = pipeline_lr.predict(X_test)\n",
    "    pipeline_rf.fit(X_train, y_train)\n",
    "    y_test_rf_autologPred = pipeline_rf.predict(X_test)"
   ]
  },
  {
   "cell_type": "code",
   "execution_count": null,
   "id": "15223344",
   "metadata": {},
   "outputs": [],
   "source": [
    "# end tracking\n",
    "mlflow.end_run()"
   ]
  },
  {
   "cell_type": "code",
   "execution_count": null,
   "id": "e726ecc6",
   "metadata": {},
   "outputs": [],
   "source": []
  }
 ],
 "metadata": {
  "kernelspec": {
   "display_name": "Python 3",
   "language": "python",
   "name": "python3"
  },
  "language_info": {
   "codemirror_mode": {
    "name": "ipython",
    "version": 3
   },
   "file_extension": ".py",
   "mimetype": "text/x-python",
   "name": "python",
   "nbconvert_exporter": "python",
   "pygments_lexer": "ipython3",
   "version": "3.8.10"
  }
 },
 "nbformat": 4,
 "nbformat_minor": 5
}
