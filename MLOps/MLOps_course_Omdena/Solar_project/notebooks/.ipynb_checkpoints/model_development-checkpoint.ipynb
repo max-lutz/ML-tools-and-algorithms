{
 "cells": [
  {
   "cell_type": "code",
   "execution_count": 44,
   "id": "6a7ec84a",
   "metadata": {},
   "outputs": [],
   "source": [
    "# import libraries\n",
    "import numpy as np\n",
    "import pandas as pd\n",
    "from pathlib import Path\n",
    "\n",
    "import seaborn as sns\n",
    "import matplotlib.pyplot as plt\n",
    "%matplotlib inline\n",
    "plt.rcParams['font.size'] = '15'\n",
    "\n",
    "from sklearn.linear_model import LinearRegression, SGDRegressor\n",
    "from sklearn.ensemble import RandomForestRegressor, GradientBoostingRegressor\n",
    "from sklearn.svm import SVR\n",
    "from lightgbm import LGBMRegressor\n",
    "from xgboost.sklearn import XGBRegressor\n",
    "from catboost import CatBoostRegressor\n",
    "from sklearn.kernel_ridge import KernelRidge\n",
    "from sklearn.linear_model import ElasticNet, Lasso,  BayesianRidge, Ridge\n",
    "\n",
    "from sklearn.preprocessing import RobustScaler, MinMaxScaler, StandardScaler, Normalizer, FunctionTransformer\n",
    "from sklearn.preprocessing import OneHotEncoder\n",
    "from sklearn.pipeline import Pipeline, make_pipeline\n",
    "from sklearn.compose import ColumnTransformer, make_column_selector\n",
    "from sklearn.preprocessing import FunctionTransformer\n",
    "from scipy.stats import skew\n",
    "\n",
    "from sklearn.model_selection import cross_val_score, cross_validate\n",
    "from sklearn.model_selection import GridSearchCV\n",
    "from sklearn.model_selection import KFold\n",
    "from sklearn.model_selection import StratifiedKFold\n",
    "\n",
    "from preprocessing_functions import log_transform"
   ]
  },
  {
   "cell_type": "code",
   "execution_count": 45,
   "id": "02c76e1a",
   "metadata": {},
   "outputs": [],
   "source": [
    "# read the dataframe\n",
    "data_path = Path.cwd().parent / 'data' / 'paris_solcast_cleaned.csv'\n",
    "df = pd.read_csv(data_path, index_col=0)\n",
    "df = df.drop(columns=['date'])    "
   ]
  },
  {
   "cell_type": "code",
   "execution_count": 46,
   "id": "0e2f1e93",
   "metadata": {},
   "outputs": [
    {
     "name": "stdout",
     "output_type": "stream",
     "text": [
      "<class 'pandas.core.frame.DataFrame'>\n",
      "Int64Index: 1087 entries, 0 to 1086\n",
      "Data columns (total 13 columns):\n",
      " #   Column         Non-Null Count  Dtype  \n",
      "---  ------         --------------  -----  \n",
      " 0   Temperature    1087 non-null   float64\n",
      " 1   CloudOpacity   1087 non-null   float64\n",
      " 2   DHI            1087 non-null   float64\n",
      " 3   DNI            1087 non-null   float64\n",
      " 4   Radiation      1087 non-null   float64\n",
      " 5   Precipitation  1087 non-null   float64\n",
      " 6   Humidity       1087 non-null   float64\n",
      " 7   Pressure       1087 non-null   float64\n",
      " 8   WindDirection  1087 non-null   float64\n",
      " 9   WindSpeed      1087 non-null   float64\n",
      " 10  Sunrise        1087 non-null   int64  \n",
      " 11  Sunset         1087 non-null   int64  \n",
      " 12  Month          1087 non-null   int64  \n",
      "dtypes: float64(10), int64(3)\n",
      "memory usage: 118.9 KB\n"
     ]
    }
   ],
   "source": [
    "df.info()"
   ]
  },
  {
   "cell_type": "markdown",
   "id": "d94262a6",
   "metadata": {},
   "source": [
    "## Split the data"
   ]
  },
  {
   "cell_type": "code",
   "execution_count": 47,
   "id": "729cbdba",
   "metadata": {},
   "outputs": [
    {
     "name": "stdout",
     "output_type": "stream",
     "text": [
      "Size of train: 74.98 % of original dataframe\n",
      "Size of test: 25.02 % of original dataframe\n"
     ]
    }
   ],
   "source": [
    "from sklearn.model_selection import train_test_split \n",
    "# stratify also along the month column\n",
    "# check that the rain ratio per month is equal between train and test set\n",
    "df_train, df_test = train_test_split(df, test_size=0.25, stratify=df[['Month']]) \n",
    "\n",
    "print(\"Size of train:\", round(len(df_train)/len(df)*100, 2), \"% of original dataframe\")\n",
    "print(\"Size of test:\", round(len(df_test)/len(df)*100, 2), \"% of original dataframe\")\n"
   ]
  },
  {
   "cell_type": "code",
   "execution_count": 48,
   "id": "80e80673",
   "metadata": {},
   "outputs": [],
   "source": [
    "def get_features_and_label(df):\n",
    "    label = np.ravel(np.array(df['Radiation']).T)\n",
    "    features = df.drop(columns=['Radiation']).to_numpy()\n",
    "    return features, label"
   ]
  },
  {
   "cell_type": "code",
   "execution_count": 49,
   "id": "fc97ab82",
   "metadata": {},
   "outputs": [],
   "source": [
    "#Split the data into X and y\n",
    "X_train, y_train = get_features_and_label(df_train)\n",
    "X_test, y_test = get_features_and_label(df_test)"
   ]
  },
  {
   "cell_type": "code",
   "execution_count": 50,
   "id": "f5e6aacd",
   "metadata": {},
   "outputs": [
    {
     "data": {
      "text/plain": [
       "((815, 12), (815,))"
      ]
     },
     "execution_count": 50,
     "metadata": {},
     "output_type": "execute_result"
    }
   ],
   "source": [
    "X_train.shape, y_train.shape"
   ]
  },
  {
   "cell_type": "markdown",
   "id": "bdc4bf68",
   "metadata": {},
   "source": [
    "## Modeling"
   ]
  },
  {
   "cell_type": "code",
   "execution_count": 51,
   "id": "0f106c3e",
   "metadata": {},
   "outputs": [
    {
     "data": {
      "text/plain": [
       "['DHI', 'Precipitation', 'Humidity', 'Pressure', 'WindDirection', 'WindSpeed']"
      ]
     },
     "execution_count": 51,
     "metadata": {},
     "output_type": "execute_result"
    }
   ],
   "source": [
    "skewed_features = []\n",
    "for col in df_train.columns.to_list()[:-2]:    \n",
    "    if col != 'Radiation':\n",
    "        if((min(df_train[col]) > 0)) & (abs(skew(df_train[col])) > 0):\n",
    "            skewed_features.append(col)\n",
    "        \n",
    "skewed_features"
   ]
  },
  {
   "cell_type": "code",
   "execution_count": 52,
   "id": "40a2b8db",
   "metadata": {},
   "outputs": [],
   "source": [
    "preprocessor = ColumnTransformer(\n",
    "    transformers=[\n",
    "        (\"month_encoder\", OneHotEncoder(handle_unknown=\"ignore\"), ['Month']),\n",
    "        (\"log_transform\", FunctionTransformer(log_transform), skewed_features)\n",
    "    ],\n",
    "    remainder='passthrough'\n",
    ")"
   ]
  },
  {
   "cell_type": "code",
   "execution_count": 53,
   "id": "88a715fe",
   "metadata": {},
   "outputs": [],
   "source": [
    "pipeline = Pipeline([  \n",
    "    ('preprocessing', preprocessor),\n",
    "    ('scaler' , StandardScaler()),\n",
    "    ('model' , RandomForestRegressor())\n",
    "])"
   ]
  },
  {
   "cell_type": "code",
   "execution_count": 54,
   "id": "7c5a38f5",
   "metadata": {},
   "outputs": [],
   "source": [
    "parameters = {\n",
    "    'preprocessing__month_encoder': ['passthrough', OneHotEncoder(handle_unknown='ignore')],\n",
    "    'preprocessing__log_transform': ['passthrough', FunctionTransformer(log_transform)],\n",
    "    'scaler': ['passthrough', StandardScaler(), MinMaxScaler(), Normalizer(), RobustScaler()],\n",
    "    'model': [LinearRegression(), RandomForestRegressor(), Ridge()]\n",
    "}"
   ]
  },
  {
   "cell_type": "code",
   "execution_count": 55,
   "id": "a3dbde54",
   "metadata": {},
   "outputs": [],
   "source": [
    "X_train = df_train.drop(columns=['Radiation'])\n",
    "y_train = df_train['Radiation']\n",
    "\n",
    "X_test = df_test.drop(columns=['Radiation'])\n",
    "y_test = df_test['Radiation']"
   ]
  },
  {
   "cell_type": "code",
   "execution_count": 66,
   "id": "3bac5108",
   "metadata": {},
   "outputs": [
    {
     "data": {
      "text/plain": [
       "1077     68.777778\n",
       "895     495.058824\n",
       "419      70.363636\n",
       "236     405.666667\n",
       "1057    134.888889\n",
       "           ...    \n",
       "474     343.071429\n",
       "58      291.583333\n",
       "68      152.833333\n",
       "963     272.466667\n",
       "958     397.200000\n",
       "Name: Radiation, Length: 815, dtype: float64"
      ]
     },
     "execution_count": 66,
     "metadata": {},
     "output_type": "execute_result"
    }
   ],
   "source": [
    "y_train"
   ]
  },
  {
   "cell_type": "code",
   "execution_count": 57,
   "id": "4f2971f3",
   "metadata": {},
   "outputs": [
    {
     "name": "stdout",
     "output_type": "stream",
     "text": [
      "Training set score: 0.9972549417289347\n",
      "Test set score: 0.9830496786070518\n",
      "Pipeline(steps=[('preprocessing',\n",
      "                 ColumnTransformer(remainder='passthrough',\n",
      "                                   transformers=[('month_encoder',\n",
      "                                                  OneHotEncoder(handle_unknown='ignore'),\n",
      "                                                  ['Month']),\n",
      "                                                 ('log_transform',\n",
      "                                                  'passthrough',\n",
      "                                                  ['DHI', 'Precipitation',\n",
      "                                                   'Humidity', 'Pressure',\n",
      "                                                   'WindDirection',\n",
      "                                                   'WindSpeed'])])),\n",
      "                ('scaler', RobustScaler()),\n",
      "                ('model', RandomForestRegressor())])\n"
     ]
    }
   ],
   "source": [
    "scoring = {'max_error': 'max_error', 'neg_mean_squared_error': 'neg_mean_squared_error', 'r2':'r2'}\n",
    "\n",
    "grid = GridSearchCV(pipeline, parameters, cv=5, scoring=scoring, refit='r2', return_train_score=True).fit(X_train, y_train)\n",
    "\n",
    "print('Training set score: ' + str(grid.score(X_train, y_train)))\n",
    "print('Test set score: ' + str(grid.score(X_test, y_test)))\n",
    " \n",
    "# Access the best set of parameters\n",
    "best_params = grid.best_params_\n",
    "#print(best_params)\n",
    "# Stores the optimum model in best_pipe\n",
    "rf_pipe = grid.best_estimator_\n",
    "print(rf_pipe)"
   ]
  },
  {
   "cell_type": "markdown",
   "id": "b5a328f5",
   "metadata": {},
   "source": [
    "### Creating a second pipeline for mlflow tracking"
   ]
  },
  {
   "cell_type": "code",
   "execution_count": 68,
   "id": "8b86f11f",
   "metadata": {},
   "outputs": [],
   "source": [
    "parameters = {\n",
    "    'preprocessing__month_encoder': ['passthrough', OneHotEncoder(handle_unknown='ignore')],\n",
    "    'preprocessing__log_transform': ['passthrough', FunctionTransformer(log_transform)],\n",
    "    'scaler': ['passthrough', StandardScaler(), MinMaxScaler(), Normalizer(), RobustScaler()],\n",
    "    'model': [LinearRegression(), ElasticNet(), Lasso()]\n",
    "}"
   ]
  },
  {
   "cell_type": "code",
   "execution_count": 69,
   "id": "2b560f62",
   "metadata": {},
   "outputs": [
    {
     "name": "stdout",
     "output_type": "stream",
     "text": [
      "Training set score: 0.9666412580896329\n",
      "Test set score: 0.964014788561364\n",
      "Pipeline(steps=[('preprocessing',\n",
      "                 ColumnTransformer(remainder='passthrough',\n",
      "                                   transformers=[('month_encoder',\n",
      "                                                  OneHotEncoder(handle_unknown='ignore'),\n",
      "                                                  ['Month']),\n",
      "                                                 ('log_transform',\n",
      "                                                  FunctionTransformer(func=<function log_transform at 0x000001323D3A3B80>),\n",
      "                                                  ['DHI', 'Precipitation',\n",
      "                                                   'Humidity', 'Pressure',\n",
      "                                                   'WindDirection',\n",
      "                                                   'WindSpeed'])])),\n",
      "                ('scaler', StandardScaler()), ('model', LinearRegression())])\n"
     ]
    }
   ],
   "source": [
    "scoring = {'max_error': 'max_error', 'neg_mean_squared_error': 'neg_mean_squared_error', 'r2':'r2'}\n",
    "\n",
    "grid = GridSearchCV(pipeline, parameters, cv=5, scoring=scoring, refit='r2', return_train_score=True).fit(X_train, y_train)\n",
    "\n",
    "print('Training set score: ' + str(grid.score(X_train, y_train)))\n",
    "print('Test set score: ' + str(grid.score(X_test, y_test)))\n",
    " \n",
    "# Access the best set of parameters\n",
    "best_params = grid.best_params_\n",
    "#print(best_params)\n",
    "# Stores the optimum model in best_pipe\n",
    "lr_pipe = grid.best_estimator_\n",
    "print(lr_pipe)"
   ]
  },
  {
   "cell_type": "code",
   "execution_count": null,
   "id": "a3917883",
   "metadata": {},
   "outputs": [],
   "source": []
  },
  {
   "cell_type": "markdown",
   "id": "ae8f10c4",
   "metadata": {},
   "source": [
    "## Plotting the predictions"
   ]
  },
  {
   "cell_type": "code",
   "execution_count": 60,
   "id": "c3f7cca6",
   "metadata": {},
   "outputs": [],
   "source": [
    "y_pred = rf_pipe.predict(X_test)"
   ]
  },
  {
   "cell_type": "code",
   "execution_count": 61,
   "id": "f5acd877",
   "metadata": {},
   "outputs": [
    {
     "data": {
      "image/png": "[encoded data removed]",
      "text/plain": [
       "<Figure size 1584x576 with 1 Axes>"
      ]
     },
     "metadata": {
      "needs_background": "light"
     },
     "output_type": "display_data"
    }
   ],
   "source": [
    "# run the model against the test data presented through a plot\n",
    "fig, ax = plt.subplots(figsize=(22,8))\n",
    "\n",
    "ax.scatter(y_test, y_pred, edgecolors=(0, 0, 0))\n",
    "ax.plot([y_test.min(), y_test.max()], [y_test.min(), y_test.max()], 'm--', lw=3)\n",
    "ax.set_xlabel('Actual solar irradiation')\n",
    "ax.set_ylabel('Predicted solar irradiation')\n",
    "ax.set_title(\" Best pipeline [Random Forest]: Actual vs Predicted Solar Irradiation\");"
   ]
  },
  {
   "cell_type": "code",
   "execution_count": 62,
   "id": "8a16e729",
   "metadata": {},
   "outputs": [
    {
     "name": "stderr",
     "output_type": "stream",
     "text": [
      "C:\\Users\\maxlu\\Anaconda3\\envs\\myenv\\lib\\site-packages\\seaborn\\_decorators.py:36: FutureWarning: Pass the following variables as keyword args: x, y. From version 0.12, the only valid positional argument will be `data`, and passing other arguments without an explicit keyword will result in an error or misinterpretation.\n",
      "  warnings.warn(\n"
     ]
    },
    {
     "data": {
      "image/png": "[encoded data removed]",
      "text/plain": [
       "<Figure size 432x432 with 3 Axes>"
      ]
     },
     "metadata": {
      "needs_background": "light"
     },
     "output_type": "display_data"
    }
   ],
   "source": [
    "sns.jointplot(y_test, y_pred, kind='reg', ax=ax)\n",
    "plt.show()"
   ]
  },
  {
   "cell_type": "code",
   "execution_count": 65,
   "id": "4eddca40",
   "metadata": {},
   "outputs": [
    {
     "data": {
      "text/html": [
       "<div>\n",
       "<style scoped>\n",
       "    .dataframe tbody tr th:only-of-type {\n",
       "        vertical-align: middle;\n",
       "    }\n",
       "\n",
       "    .dataframe tbody tr th {\n",
       "        vertical-align: top;\n",
       "    }\n",
       "\n",
       "    .dataframe thead th {\n",
       "        text-align: right;\n",
       "    }\n",
       "</style>\n",
       "<table border=\"1\" class=\"dataframe\">\n",
       "  <thead>\n",
       "    <tr style=\"text-align: right;\">\n",
       "      <th></th>\n",
       "      <th>Temperature</th>\n",
       "      <th>CloudOpacity</th>\n",
       "      <th>DHI</th>\n",
       "      <th>DNI</th>\n",
       "      <th>Radiation</th>\n",
       "      <th>Precipitation</th>\n",
       "      <th>Humidity</th>\n",
       "      <th>Pressure</th>\n",
       "      <th>WindDirection</th>\n",
       "      <th>WindSpeed</th>\n",
       "      <th>Sunrise</th>\n",
       "      <th>Sunset</th>\n",
       "      <th>Month</th>\n",
       "    </tr>\n",
       "  </thead>\n",
       "  <tbody>\n",
       "    <tr>\n",
       "      <th>1077</th>\n",
       "      <td>8.800000</td>\n",
       "      <td>47.255556</td>\n",
       "      <td>68.444444</td>\n",
       "      <td>3.888889</td>\n",
       "      <td>68.777778</td>\n",
       "      <td>16.300000</td>\n",
       "      <td>89.511111</td>\n",
       "      <td>1015.133333</td>\n",
       "      <td>206.444444</td>\n",
       "      <td>2.777778</td>\n",
       "      <td>9</td>\n",
       "      <td>17</td>\n",
       "      <td>12</td>\n",
       "    </tr>\n",
       "    <tr>\n",
       "      <th>895</th>\n",
       "      <td>20.788235</td>\n",
       "      <td>0.000000</td>\n",
       "      <td>72.764706</td>\n",
       "      <td>662.823529</td>\n",
       "      <td>495.058824</td>\n",
       "      <td>18.364706</td>\n",
       "      <td>49.458824</td>\n",
       "      <td>1015.600000</td>\n",
       "      <td>62.411765</td>\n",
       "      <td>3.335294</td>\n",
       "      <td>9</td>\n",
       "      <td>22</td>\n",
       "      <td>6</td>\n",
       "    </tr>\n",
       "    <tr>\n",
       "      <th>419</th>\n",
       "      <td>12.754545</td>\n",
       "      <td>70.400000</td>\n",
       "      <td>69.909091</td>\n",
       "      <td>3.363636</td>\n",
       "      <td>70.363636</td>\n",
       "      <td>22.700000</td>\n",
       "      <td>76.581818</td>\n",
       "      <td>1013.454545</td>\n",
       "      <td>242.363636</td>\n",
       "      <td>7.427273</td>\n",
       "      <td>9</td>\n",
       "      <td>19</td>\n",
       "      <td>2</td>\n",
       "    </tr>\n",
       "    <tr>\n",
       "      <th>236</th>\n",
       "      <td>26.213333</td>\n",
       "      <td>8.313333</td>\n",
       "      <td>130.400000</td>\n",
       "      <td>462.733333</td>\n",
       "      <td>405.666667</td>\n",
       "      <td>15.373333</td>\n",
       "      <td>39.560000</td>\n",
       "      <td>1008.420000</td>\n",
       "      <td>116.933333</td>\n",
       "      <td>1.573333</td>\n",
       "      <td>9</td>\n",
       "      <td>21</td>\n",
       "      <td>8</td>\n",
       "    </tr>\n",
       "    <tr>\n",
       "      <th>1057</th>\n",
       "      <td>6.177778</td>\n",
       "      <td>29.477778</td>\n",
       "      <td>99.888889</td>\n",
       "      <td>153.333333</td>\n",
       "      <td>134.888889</td>\n",
       "      <td>7.266667</td>\n",
       "      <td>73.466667</td>\n",
       "      <td>1013.177778</td>\n",
       "      <td>36.666667</td>\n",
       "      <td>5.888889</td>\n",
       "      <td>9</td>\n",
       "      <td>17</td>\n",
       "      <td>11</td>\n",
       "    </tr>\n",
       "    <tr>\n",
       "      <th>...</th>\n",
       "      <td>...</td>\n",
       "      <td>...</td>\n",
       "      <td>...</td>\n",
       "      <td>...</td>\n",
       "      <td>...</td>\n",
       "      <td>...</td>\n",
       "      <td>...</td>\n",
       "      <td>...</td>\n",
       "      <td>...</td>\n",
       "      <td>...</td>\n",
       "      <td>...</td>\n",
       "      <td>...</td>\n",
       "      <td>...</td>\n",
       "    </tr>\n",
       "    <tr>\n",
       "      <th>474</th>\n",
       "      <td>19.307143</td>\n",
       "      <td>24.457143</td>\n",
       "      <td>199.285714</td>\n",
       "      <td>270.571429</td>\n",
       "      <td>343.071429</td>\n",
       "      <td>19.828571</td>\n",
       "      <td>53.714286</td>\n",
       "      <td>1005.164286</td>\n",
       "      <td>260.785714</td>\n",
       "      <td>2.821429</td>\n",
       "      <td>9</td>\n",
       "      <td>21</td>\n",
       "      <td>4</td>\n",
       "    </tr>\n",
       "    <tr>\n",
       "      <th>58</th>\n",
       "      <td>12.325000</td>\n",
       "      <td>0.825000</td>\n",
       "      <td>64.916667</td>\n",
       "      <td>575.833333</td>\n",
       "      <td>291.583333</td>\n",
       "      <td>8.475000</td>\n",
       "      <td>62.766667</td>\n",
       "      <td>1011.275000</td>\n",
       "      <td>215.583333</td>\n",
       "      <td>2.925000</td>\n",
       "      <td>9</td>\n",
       "      <td>19</td>\n",
       "      <td>2</td>\n",
       "    </tr>\n",
       "    <tr>\n",
       "      <th>68</th>\n",
       "      <td>10.683333</td>\n",
       "      <td>57.266667</td>\n",
       "      <td>129.083333</td>\n",
       "      <td>52.333333</td>\n",
       "      <td>152.833333</td>\n",
       "      <td>13.258333</td>\n",
       "      <td>80.075000</td>\n",
       "      <td>1004.208333</td>\n",
       "      <td>255.083333</td>\n",
       "      <td>7.766667</td>\n",
       "      <td>9</td>\n",
       "      <td>19</td>\n",
       "      <td>3</td>\n",
       "    </tr>\n",
       "    <tr>\n",
       "      <th>963</th>\n",
       "      <td>21.920000</td>\n",
       "      <td>38.520000</td>\n",
       "      <td>211.333333</td>\n",
       "      <td>113.200000</td>\n",
       "      <td>272.466667</td>\n",
       "      <td>27.453333</td>\n",
       "      <td>53.000000</td>\n",
       "      <td>1007.073333</td>\n",
       "      <td>133.266667</td>\n",
       "      <td>1.226667</td>\n",
       "      <td>9</td>\n",
       "      <td>21</td>\n",
       "      <td>8</td>\n",
       "    </tr>\n",
       "    <tr>\n",
       "      <th>958</th>\n",
       "      <td>25.866667</td>\n",
       "      <td>7.120000</td>\n",
       "      <td>178.066667</td>\n",
       "      <td>387.333333</td>\n",
       "      <td>397.200000</td>\n",
       "      <td>27.000000</td>\n",
       "      <td>45.486667</td>\n",
       "      <td>1004.226667</td>\n",
       "      <td>228.600000</td>\n",
       "      <td>2.940000</td>\n",
       "      <td>9</td>\n",
       "      <td>21</td>\n",
       "      <td>8</td>\n",
       "    </tr>\n",
       "  </tbody>\n",
       "</table>\n",
       "<p>815 rows × 13 columns</p>\n",
       "</div>"
      ],
      "text/plain": [
       "      Temperature  CloudOpacity         DHI         DNI   Radiation  \\\n",
       "1077     8.800000     47.255556   68.444444    3.888889   68.777778   \n",
       "895     20.788235      0.000000   72.764706  662.823529  495.058824   \n",
       "419     12.754545     70.400000   69.909091    3.363636   70.363636   \n",
       "236     26.213333      8.313333  130.400000  462.733333  405.666667   \n",
       "1057     6.177778     29.477778   99.888889  153.333333  134.888889   \n",
       "...           ...           ...         ...         ...         ...   \n",
       "474     19.307143     24.457143  199.285714  270.571429  343.071429   \n",
       "58      12.325000      0.825000   64.916667  575.833333  291.583333   \n",
       "68      10.683333     57.266667  129.083333   52.333333  152.833333   \n",
       "963     21.920000     38.520000  211.333333  113.200000  272.466667   \n",
       "958     25.866667      7.120000  178.066667  387.333333  397.200000   \n",
       "\n",
       "      Precipitation   Humidity     Pressure  WindDirection  WindSpeed  \\\n",
       "1077      16.300000  89.511111  1015.133333     206.444444   2.777778   \n",
       "895       18.364706  49.458824  1015.600000      62.411765   3.335294   \n",
       "419       22.700000  76.581818  1013.454545     242.363636   7.427273   \n",
       "236       15.373333  39.560000  1008.420000     116.933333   1.573333   \n",
       "1057       7.266667  73.466667  1013.177778      36.666667   5.888889   \n",
       "...             ...        ...          ...            ...        ...   \n",
       "474       19.828571  53.714286  1005.164286     260.785714   2.821429   \n",
       "58         8.475000  62.766667  1011.275000     215.583333   2.925000   \n",
       "68        13.258333  80.075000  1004.208333     255.083333   7.766667   \n",
       "963       27.453333  53.000000  1007.073333     133.266667   1.226667   \n",
       "958       27.000000  45.486667  1004.226667     228.600000   2.940000   \n",
       "\n",
       "      Sunrise  Sunset  Month  \n",
       "1077        9      17     12  \n",
       "895         9      22      6  \n",
       "419         9      19      2  \n",
       "236         9      21      8  \n",
       "1057        9      17     11  \n",
       "...       ...     ...    ...  \n",
       "474         9      21      4  \n",
       "58          9      19      2  \n",
       "68          9      19      3  \n",
       "963         9      21      8  \n",
       "958         9      21      8  \n",
       "\n",
       "[815 rows x 13 columns]"
      ]
     },
     "execution_count": 65,
     "metadata": {},
     "output_type": "execute_result"
    }
   ],
   "source": [
    "df_train"
   ]
  },
  {
   "cell_type": "code",
   "execution_count": 70,
   "id": "e43649d1",
   "metadata": {},
   "outputs": [
    {
     "data": {
      "text/plain": [
       "['../models/lr_model.joblib']"
      ]
     },
     "execution_count": 70,
     "metadata": {},
     "output_type": "execute_result"
    }
   ],
   "source": [
    "import joblib\n",
    "\n",
    "joblib.dump(rf_pipe, '../models/rf_model.joblib')\n",
    "joblib.dump(lr_pipe, '../models/lr_model.joblib')"
   ]
  },
  {
   "cell_type": "code",
   "execution_count": 64,
   "id": "714570d1",
   "metadata": {},
   "outputs": [],
   "source": [
    "df_train.to_csv('../data/train.csv')\n",
    "df_test.to_csv('../data/test.csv')"
   ]
  },
  {
   "cell_type": "code",
   "execution_count": null,
   "id": "d45205ec",
   "metadata": {},
   "outputs": [],
   "source": []
  }
 ],
 "metadata": {
  "kernelspec": {
   "display_name": "Python 3",
   "language": "python",
   "name": "python3"
  },
  "language_info": {
   "codemirror_mode": {
    "name": "ipython",
    "version": 3
   },
   "file_extension": ".py",
   "mimetype": "text/x-python",
   "name": "python",
   "nbconvert_exporter": "python",
   "pygments_lexer": "ipython3",
   "version": "3.8.10"
  }
 },
 "nbformat": 4,
 "nbformat_minor": 5
}
