{
 "cells": [
  {
   "cell_type": "code",
   "execution_count": 12,
   "id": "a431a539",
   "metadata": {},
   "outputs": [],
   "source": [
    "import requests\n",
    "from bs4 import BeautifulSoup"
   ]
  },
  {
   "cell_type": "markdown",
   "id": "bce8e065",
   "metadata": {},
   "source": [
    "## Safely request web page\n",
    "Check for non existing page"
   ]
  },
  {
   "cell_type": "code",
   "execution_count": 28,
   "id": "4ab4297b",
   "metadata": {},
   "outputs": [
    {
     "name": "stdout",
     "output_type": "stream",
     "text": [
      "error\n"
     ]
    }
   ],
   "source": [
    "try:\n",
    "    r = requests.get(\"http://tigerstyle.binpress.com/\")\n",
    "except requests.exceptions.RequestException as e:  # This is the correct syntax\n",
    "    print(\"error\")\n",
    "else:\n",
    "    print(r)"
   ]
  },
  {
   "cell_type": "markdown",
   "id": "be97da74",
   "metadata": {},
   "source": [
    "Check for response outside of 200-206"
   ]
  },
  {
   "cell_type": "code",
   "execution_count": 29,
   "id": "fe36307e",
   "metadata": {},
   "outputs": [
    {
     "name": "stdout",
     "output_type": "stream",
     "text": [
      "<Response [404]>\n"
     ]
    }
   ],
   "source": [
    "try:\n",
    "    r = requests.get(\"https://stackoverflow.com/questions/729/alternate-way-to-report-bugs-for-stackoverflow/732#732\")\n",
    "except requests.exceptions.RequestException as e:  # This is the correct syntax\n",
    "    print(\"error\")\n",
    "else:\n",
    "    print(r)"
   ]
  },
  {
   "cell_type": "code",
   "execution_count": 30,
   "id": "3ebd22e1",
   "metadata": {},
   "outputs": [
    {
     "name": "stdout",
     "output_type": "stream",
     "text": [
      "<Response [200]>\n"
     ]
    }
   ],
   "source": [
    "try:\n",
    "    r = requests.get(\"https://www.dataquest.io/blog/web-scraping-python-using-beautiful-soup/\")\n",
    "except requests.exceptions.RequestException as e:  # This is the correct syntax\n",
    "    print(\"error\")\n",
    "else:\n",
    "    print(r)"
   ]
  },
  {
   "cell_type": "markdown",
   "id": "e2fc8ab4",
   "metadata": {},
   "source": [
    "## Parsing with BeautifulSoup"
   ]
  },
  {
   "cell_type": "code",
   "execution_count": 26,
   "id": "235c2e64",
   "metadata": {},
   "outputs": [],
   "source": [
    "soup = BeautifulSoup(r.content, 'html.parser')"
   ]
  },
  {
   "cell_type": "markdown",
   "id": "a7b9d992",
   "metadata": {},
   "source": [
    "Always check if the element we are trying to acces is not None"
   ]
  },
  {
   "cell_type": "code",
   "execution_count": 27,
   "id": "3eac41f3",
   "metadata": {},
   "outputs": [
    {
     "name": "stdout",
     "output_type": "stream",
     "text": [
      "None\n"
     ]
    }
   ],
   "source": [
    "print(soup.random)"
   ]
  },
  {
   "cell_type": "markdown",
   "id": "eeac79f0",
   "metadata": {},
   "source": [
    "Finding element belonging to the same class"
   ]
  },
  {
   "cell_type": "code",
   "execution_count": 31,
   "id": "433d5b8c",
   "metadata": {},
   "outputs": [],
   "source": [
    "list_ = soup.find_all(\"div\", {\"class\": \"class_1\"})\n",
    "for item in list_:\n",
    "    print(item.get_text())"
   ]
  },
  {
   "cell_type": "markdown",
   "id": "4ad079de",
   "metadata": {},
   "source": [
    "----- Tutorial 8 -----"
   ]
  },
  {
   "cell_type": "code",
   "execution_count": null,
   "id": "54fca63d",
   "metadata": {},
   "outputs": [],
   "source": []
  }
 ],
 "metadata": {
  "kernelspec": {
   "display_name": "Python 3",
   "language": "python",
   "name": "python3"
  },
  "language_info": {
   "codemirror_mode": {
    "name": "ipython",
    "version": 3
   },
   "file_extension": ".py",
   "mimetype": "text/x-python",
   "name": "python",
   "nbconvert_exporter": "python",
   "pygments_lexer": "ipython3",
   "version": "3.8.10"
  }
 },
 "nbformat": 4,
 "nbformat_minor": 5
}
